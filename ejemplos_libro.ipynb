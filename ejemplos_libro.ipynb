{
 "cells": [
  {
   "cell_type": "code",
   "execution_count": 1,
   "metadata": {},
   "outputs": [],
   "source": [
    "class ContactList(list):\n",
    "    def search(self, name):\n",
    "        matching_contacts = []\n",
    "        for contact in self:\n",
    "            if name in contact.name:\n",
    "                matching_contacts.append(contact)\n",
    "                \n",
    "        return matching_contacts\n",
    "\n",
    "class Contact():\n",
    "    all_contacts = ContactList()\n",
    "    \n",
    "    def __init__(self, name, email):\n",
    "        self.name = name\n",
    "        self.email = email\n",
    "        Contact.all_contacts.append(self)\n",
    "        \n",
    "\n",
    "\n"
   ]
  },
  {
   "cell_type": "code",
   "execution_count": 2,
   "metadata": {},
   "outputs": [
    {
     "ename": "NameError",
     "evalue": "name 'Contact' is not defined",
     "output_type": "error",
     "traceback": [
      "\u001b[1;31m---------------------------------------------------------------------------\u001b[0m",
      "\u001b[1;31mNameError\u001b[0m                                 Traceback (most recent call last)",
      "\u001b[1;32m<ipython-input-2-37df9d8d795f>\u001b[0m in \u001b[0;36m<module>\u001b[1;34m\u001b[0m\n\u001b[1;32m----> 1\u001b[1;33m \u001b[1;32mclass\u001b[0m \u001b[0mSupplier\u001b[0m\u001b[1;33m(\u001b[0m\u001b[0mContact\u001b[0m\u001b[1;33m)\u001b[0m\u001b[1;33m:\u001b[0m\u001b[1;33m\u001b[0m\u001b[1;33m\u001b[0m\u001b[0m\n\u001b[0m\u001b[0;32m      2\u001b[0m     \u001b[1;32mdef\u001b[0m \u001b[0morder\u001b[0m\u001b[1;33m(\u001b[0m\u001b[0mself\u001b[0m\u001b[1;33m,\u001b[0m \u001b[0morder\u001b[0m\u001b[1;33m)\u001b[0m\u001b[1;33m:\u001b[0m\u001b[1;33m\u001b[0m\u001b[1;33m\u001b[0m\u001b[0m\n\u001b[0;32m      3\u001b[0m         \u001b[0mprint\u001b[0m\u001b[1;33m(\u001b[0m\u001b[1;34m\"We would send {} order to {}\"\u001b[0m\u001b[1;33m.\u001b[0m\u001b[0mformat\u001b[0m\u001b[1;33m(\u001b[0m\u001b[0morder\u001b[0m\u001b[1;33m,\u001b[0m \u001b[0mself\u001b[0m\u001b[1;33m.\u001b[0m\u001b[0mname\u001b[0m\u001b[1;33m)\u001b[0m\u001b[1;33m)\u001b[0m\u001b[1;33m\u001b[0m\u001b[1;33m\u001b[0m\u001b[0m\n\u001b[0;32m      4\u001b[0m \u001b[1;33m\u001b[0m\u001b[0m\n\u001b[0;32m      5\u001b[0m \u001b[1;32mclass\u001b[0m \u001b[0mFriend\u001b[0m\u001b[1;33m(\u001b[0m\u001b[0mContact\u001b[0m\u001b[1;33m)\u001b[0m\u001b[1;33m:\u001b[0m\u001b[1;33m\u001b[0m\u001b[1;33m\u001b[0m\u001b[0m\n",
      "\u001b[1;31mNameError\u001b[0m: name 'Contact' is not defined"
     ]
    }
   ],
   "source": [
    "class Supplier(Contact):\n",
    "    def order(self, order):\n",
    "        print(\"We would send {} order to {}\".format(order, self.name))\n",
    "        \n",
    "class Friend(Contact):\n",
    "    def __init__(self, name, email, phone):\n",
    "        super().__init__(name, email)\n",
    "        self.phone = phone"
   ]
  },
  {
   "cell_type": "code",
   "execution_count": null,
   "metadata": {},
   "outputs": [],
   "source": [
    "class MailSender:\n",
    "    def send_email(self, message):\n",
    "        print(\"Sending email to \" + self.email)\n",
    "        \n",
    "class EmailableContact(Contact, MailSender):\n",
    "    pass"
   ]
  },
  {
   "cell_type": "code",
   "execution_count": null,
   "metadata": {},
   "outputs": [],
   "source": [
    "class AddressHolder():\n",
    "    def __init__(self, street, city, state, code):\n",
    "        self.steet = street\n",
    "        self.city = city\n",
    "        self.state = state\n",
    "        self.code = code\n",
    "        "
   ]
  },
  {
   "cell_type": "code",
   "execution_count": null,
   "metadata": {},
   "outputs": [
    {
     "name": "stdout",
     "output_type": "stream",
     "text": [
      "Some body somebody@example.net Sup Plier supplier@example.net\n"
     ]
    }
   ],
   "source": [
    "c = Contact(\"Some body\", \"somebody@example.net\")\n",
    "s = Supplier(\"Sup Plier\", \"supplier@example.net\")\n",
    "\n",
    "print(c.name, c.email, s.name, s.email)"
   ]
  },
  {
   "cell_type": "code",
   "execution_count": null,
   "metadata": {},
   "outputs": [],
   "source": [
    "e = EmailableContact(\"John Smith\", \"johnsmith@example.net\")"
   ]
  },
  {
   "cell_type": "code",
   "execution_count": null,
   "metadata": {},
   "outputs": [
    {
     "name": "stdout",
     "output_type": "stream",
     "text": [
      "Sending email to johnsmith@example.net\n"
     ]
    }
   ],
   "source": [
    "Contact.all_contacts\n",
    "e.send_email(\"hello\")"
   ]
  },
  {
   "cell_type": "code",
   "execution_count": null,
   "metadata": {},
   "outputs": [
    {
     "name": "stderr",
     "output_type": "stream",
     "text": [
      "<ipython-input-1-c0e22b0f2008>:1: DeprecationWarning: Using or importing the ABCs from 'collections' instead of from 'collections.abc' is deprecated since Python 3.3, and in 3.9 it will stop working\n",
      "  from collections import Container\n"
     ]
    },
    {
     "data": {
      "text/plain": [
       "frozenset({'__contains__'})"
      ]
     },
     "execution_count": 1,
     "metadata": {},
     "output_type": "execute_result"
    }
   ],
   "source": []
  },
  {
   "cell_type": "code",
   "execution_count": null,
   "metadata": {},
   "outputs": [
    {
     "name": "stdout",
     "output_type": "stream",
     "text": [
      "Help on function __contains__ in module collections.abc:\n",
      "\n",
      "__contains__(self, x)\n",
      "\n"
     ]
    }
   ],
   "source": []
  },
  {
   "cell_type": "code",
   "execution_count": null,
   "metadata": {},
   "outputs": [],
   "source": [
    "class OddContainer:\n",
    "    def __contains__(self, x):\n",
    "        if not isinstance(x, int) or not x%2:\n",
    "            return False\n",
    "        return True\n",
    "    \n"
   ]
  },
  {
   "cell_type": "code",
   "execution_count": null,
   "metadata": {},
   "outputs": [],
   "source": [
    "odd_cont = OddContainer()\n"
   ]
  },
  {
   "cell_type": "code",
   "execution_count": null,
   "metadata": {},
   "outputs": [
    {
     "name": "stdout",
     "output_type": "stream",
     "text": [
      "__class__ <class '__main__.OddContainer'>\n",
      "__contains__ <bound method OddContainer.__contains__ of <__main__.OddContainer object at 0x00000200B63AD5B0>>\n",
      "__delattr__ <method-wrapper '__delattr__' of OddContainer object at 0x00000200B63AD5B0>\n",
      "__dict__ {}\n",
      "__dir__ <built-in method __dir__ of OddContainer object at 0x00000200B63AD5B0>\n",
      "__doc__ None\n",
      "__eq__ <method-wrapper '__eq__' of OddContainer object at 0x00000200B63AD5B0>\n",
      "__format__ <built-in method __format__ of OddContainer object at 0x00000200B63AD5B0>\n",
      "__ge__ <method-wrapper '__ge__' of OddContainer object at 0x00000200B63AD5B0>\n",
      "__getattribute__ <method-wrapper '__getattribute__' of OddContainer object at 0x00000200B63AD5B0>\n",
      "__gt__ <method-wrapper '__gt__' of OddContainer object at 0x00000200B63AD5B0>\n",
      "__hash__ <method-wrapper '__hash__' of OddContainer object at 0x00000200B63AD5B0>\n",
      "__init__ <method-wrapper '__init__' of OddContainer object at 0x00000200B63AD5B0>\n",
      "__init_subclass__ <built-in method __init_subclass__ of type object at 0x00000200B4A01B10>\n",
      "__le__ <method-wrapper '__le__' of OddContainer object at 0x00000200B63AD5B0>\n",
      "__lt__ <method-wrapper '__lt__' of OddContainer object at 0x00000200B63AD5B0>\n",
      "__module__ __main__\n",
      "__ne__ <method-wrapper '__ne__' of OddContainer object at 0x00000200B63AD5B0>\n",
      "__new__ <built-in method __new__ of type object at 0x00007FFA0201BB50>\n",
      "__reduce__ <built-in method __reduce__ of OddContainer object at 0x00000200B63AD5B0>\n",
      "__reduce_ex__ <built-in method __reduce_ex__ of OddContainer object at 0x00000200B63AD5B0>\n",
      "__repr__ <method-wrapper '__repr__' of OddContainer object at 0x00000200B63AD5B0>\n",
      "__setattr__ <method-wrapper '__setattr__' of OddContainer object at 0x00000200B63AD5B0>\n",
      "__sizeof__ <built-in method __sizeof__ of OddContainer object at 0x00000200B63AD5B0>\n",
      "__str__ <method-wrapper '__str__' of OddContainer object at 0x00000200B63AD5B0>\n",
      "__subclasshook__ <built-in method __subclasshook__ of type object at 0x00000200B4A01B10>\n",
      "__weakref__ None\n"
     ]
    }
   ],
   "source": [
    "for att in dir(odd_cont):\n",
    "    print(att,getattr(odd_cont, att))"
   ]
  },
  {
   "cell_type": "code",
   "execution_count": 17,
   "metadata": {},
   "outputs": [],
   "source": [
    "class Color:\n",
    "    def __init__(self, rgb_value, name):\n",
    "        self.rgb_value = rgb_value\n",
    "        self._name = name\n",
    "    \n",
    "    @property\n",
    "    def name(self):\n",
    "        return self._name\n",
    "    \n",
    "    @name.setter\n",
    "    def set_name(self, name):\n",
    "        if not name:\n",
    "            raise Exception(\"Invalid name\")\n",
    "        self._name = name\n",
    "    \n",
    "    # name = property(_get_name,_set_name)\n",
    "    \n",
    "\n"
   ]
  },
  {
   "cell_type": "code",
   "execution_count": 18,
   "metadata": {},
   "outputs": [
    {
     "name": "stdout",
     "output_type": "stream",
     "text": [
      "bright red\n"
     ]
    }
   ],
   "source": [
    "c = Color(\"#0000ff\", \"bright red\")\n",
    "\n",
    "print(c.name)\n"
   ]
  },
  {
   "cell_type": "code",
   "execution_count": 4,
   "metadata": {},
   "outputs": [
    {
     "ename": "Exception",
     "evalue": "Invalid name",
     "output_type": "error",
     "traceback": [
      "\u001b[1;31m---------------------------------------------------------------------------\u001b[0m",
      "\u001b[1;31mException\u001b[0m                                 Traceback (most recent call last)",
      "\u001b[1;32m<ipython-input-4-d163a332e13e>\u001b[0m in \u001b[0;36m<module>\u001b[1;34m\u001b[0m\n\u001b[1;32m----> 1\u001b[1;33m \u001b[0mc\u001b[0m\u001b[1;33m.\u001b[0m\u001b[0mname\u001b[0m \u001b[1;33m=\u001b[0m \u001b[1;34m\"\"\u001b[0m\u001b[1;33m\u001b[0m\u001b[1;33m\u001b[0m\u001b[0m\n\u001b[0m",
      "\u001b[1;32m<ipython-input-1-4f3711e39d50>\u001b[0m in \u001b[0;36m_set_name\u001b[1;34m(self, name)\u001b[0m\n\u001b[0;32m      6\u001b[0m     \u001b[1;32mdef\u001b[0m \u001b[0m_set_name\u001b[0m\u001b[1;33m(\u001b[0m\u001b[0mself\u001b[0m\u001b[1;33m,\u001b[0m \u001b[0mname\u001b[0m\u001b[1;33m)\u001b[0m\u001b[1;33m:\u001b[0m\u001b[1;33m\u001b[0m\u001b[1;33m\u001b[0m\u001b[0m\n\u001b[0;32m      7\u001b[0m         \u001b[1;32mif\u001b[0m \u001b[1;32mnot\u001b[0m \u001b[0mname\u001b[0m\u001b[1;33m:\u001b[0m\u001b[1;33m\u001b[0m\u001b[1;33m\u001b[0m\u001b[0m\n\u001b[1;32m----> 8\u001b[1;33m             \u001b[1;32mraise\u001b[0m \u001b[0mException\u001b[0m\u001b[1;33m(\u001b[0m\u001b[1;34m\"Invalid name\"\u001b[0m\u001b[1;33m)\u001b[0m\u001b[1;33m\u001b[0m\u001b[1;33m\u001b[0m\u001b[0m\n\u001b[0m\u001b[0;32m      9\u001b[0m         \u001b[0mself\u001b[0m\u001b[1;33m.\u001b[0m\u001b[0m_name\u001b[0m \u001b[1;33m=\u001b[0m \u001b[0mname\u001b[0m\u001b[1;33m\u001b[0m\u001b[1;33m\u001b[0m\u001b[0m\n\u001b[0;32m     10\u001b[0m \u001b[1;33m\u001b[0m\u001b[0m\n",
      "\u001b[1;31mException\u001b[0m: Invalid name"
     ]
    }
   ],
   "source": [
    "c.name = \"\""
   ]
  },
  {
   "cell_type": "code",
   "execution_count": 7,
   "metadata": {},
   "outputs": [
    {
     "ename": "AttributeError",
     "evalue": "can't delete attribute",
     "output_type": "error",
     "traceback": [
      "\u001b[1;31m---------------------------------------------------------------------------\u001b[0m",
      "\u001b[1;31mAttributeError\u001b[0m                            Traceback (most recent call last)",
      "\u001b[1;32m<ipython-input-7-afae4b905b1c>\u001b[0m in \u001b[0;36m<module>\u001b[1;34m\u001b[0m\n\u001b[1;32m----> 1\u001b[1;33m \u001b[1;32mdel\u001b[0m \u001b[0mc\u001b[0m\u001b[1;33m.\u001b[0m\u001b[0mname\u001b[0m\u001b[1;33m\u001b[0m\u001b[1;33m\u001b[0m\u001b[0m\n\u001b[0m",
      "\u001b[1;31mAttributeError\u001b[0m: can't delete attribute"
     ]
    }
   ],
   "source": [
    "del c.name"
   ]
  },
  {
   "cell_type": "code",
   "execution_count": null,
   "metadata": {},
   "outputs": [],
   "source": []
  }
 ],
 "metadata": {
  "kernelspec": {
   "display_name": "Python 3.8.5 ('base')",
   "language": "python",
   "name": "python3"
  },
  "language_info": {
   "codemirror_mode": {
    "name": "ipython",
    "version": 3
   },
   "file_extension": ".py",
   "mimetype": "text/x-python",
   "name": "python",
   "nbconvert_exporter": "python",
   "pygments_lexer": "ipython3",
   "version": "3.8.5"
  },
  "orig_nbformat": 4,
  "vscode": {
   "interpreter": {
    "hash": "3fbf79a84a1e70b0788c0337eb8e065fa1182784e75bcfcc798336fca95a9abb"
   }
  }
 },
 "nbformat": 4,
 "nbformat_minor": 2
}
